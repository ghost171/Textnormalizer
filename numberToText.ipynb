{
 "cells": [
  {
   "cell_type": "code",
   "execution_count": 6,
   "metadata": {
    "tags": [
     "outputPrepend"
    ]
   },
   "outputs": [
    {
     "name": "stderr",
     "output_type": "stream",
     "text": [
      "  0%|          | 7/3752227 [00:00<10:35, 5902.72it/s]\n"
     ]
    },
    {
     "ename": "TypeError",
     "evalue": "'str' object does not support item assignment",
     "output_type": "error",
     "traceback": [
      "\u001b[0;31m---------------------------------------------------------------------------\u001b[0m",
      "\u001b[0;31mTypeError\u001b[0m                                 Traceback (most recent call last)",
      "\u001b[0;32m<ipython-input-6-15fad003d7ee>\u001b[0m in \u001b[0;36m<module>\u001b[0;34m\u001b[0m\n\u001b[1;32m     12\u001b[0m \u001b[0;32mfor\u001b[0m \u001b[0mx\u001b[0m \u001b[0;32min\u001b[0m \u001b[0mtqdm\u001b[0m\u001b[0;34m(\u001b[0m\u001b[0mexamples_first_1000\u001b[0m\u001b[0;34m)\u001b[0m\u001b[0;34m:\u001b[0m\u001b[0;34m\u001b[0m\u001b[0;34m\u001b[0m\u001b[0m\n\u001b[1;32m     13\u001b[0m     \u001b[0;31m#print(\"TEXT\", x)\u001b[0m\u001b[0;34m\u001b[0m\u001b[0;34m\u001b[0m\u001b[0;34m\u001b[0m\u001b[0m\n\u001b[0;32m---> 14\u001b[0;31m     \u001b[0mpredict\u001b[0m\u001b[0;34m,\u001b[0m \u001b[0mremarked\u001b[0m \u001b[0;34m=\u001b[0m \u001b[0mnumber_converter\u001b[0m\u001b[0;34m(\u001b[0m\u001b[0mx\u001b[0m\u001b[0;34m)\u001b[0m\u001b[0;34m\u001b[0m\u001b[0;34m\u001b[0m\u001b[0m\n\u001b[0m\u001b[1;32m     15\u001b[0m     \u001b[0mremarked_all\u001b[0m \u001b[0;34m+=\u001b[0m \u001b[0mremarked\u001b[0m\u001b[0;34m\u001b[0m\u001b[0;34m\u001b[0m\u001b[0m\n\u001b[1;32m     16\u001b[0m     \u001b[0mpredicted\u001b[0m\u001b[0;34m.\u001b[0m\u001b[0mappend\u001b[0m\u001b[0;34m(\u001b[0m\u001b[0mpredict\u001b[0m\u001b[0;34m)\u001b[0m\u001b[0;34m\u001b[0m\u001b[0;34m\u001b[0m\u001b[0m\n",
      "\u001b[0;32m~/new/num2word(1)/num2word/normalizer.py\u001b[0m in \u001b[0;36mnumber_converter\u001b[0;34m(text)\u001b[0m\n\u001b[1;32m    447\u001b[0m     \u001b[0;31m#text = multiply_converter(text)\u001b[0m\u001b[0;34m\u001b[0m\u001b[0;34m\u001b[0m\u001b[0;34m\u001b[0m\u001b[0m\n\u001b[1;32m    448\u001b[0m     \u001b[0;31m#text = devide_converter(text)\u001b[0m\u001b[0;34m\u001b[0m\u001b[0;34m\u001b[0m\u001b[0;34m\u001b[0m\u001b[0m\n\u001b[0;32m--> 449\u001b[0;31m     \u001b[0;31m#text = english_converter(text)\u001b[0m\u001b[0;34m\u001b[0m\u001b[0;34m\u001b[0m\u001b[0;34m\u001b[0m\u001b[0m\n\u001b[0m\u001b[1;32m    450\u001b[0m     \u001b[0;31m#text = ampersand_converter(text)\u001b[0m\u001b[0;34m\u001b[0m\u001b[0;34m\u001b[0m\u001b[0;34m\u001b[0m\u001b[0m\n\u001b[1;32m    451\u001b[0m     \u001b[0;31m#text = number_mark_converter(text)\u001b[0m\u001b[0;34m\u001b[0m\u001b[0;34m\u001b[0m\u001b[0;34m\u001b[0m\u001b[0m\n",
      "\u001b[0;32m~/new/num2word(1)/num2word/normalizer.py\u001b[0m in \u001b[0;36menglish_converter\u001b[0;34m(text)\u001b[0m\n\u001b[1;32m    347\u001b[0m         \u001b[0;31m#    text = text[:i] + 'к' + text[i+1:]\u001b[0m\u001b[0;34m\u001b[0m\u001b[0;34m\u001b[0m\u001b[0;34m\u001b[0m\u001b[0m\n\u001b[1;32m    348\u001b[0m         \u001b[0;31m#if letter == 'С' and (text[i + 1] == 'O' or text[i + 1] == 'о'):\u001b[0m\u001b[0;34m\u001b[0m\u001b[0;34m\u001b[0m\u001b[0;34m\u001b[0m\u001b[0m\n\u001b[0;32m--> 349\u001b[0;31m         \u001b[0;31m#    text = text[:i] + 'К' + text[i+1:]\u001b[0m\u001b[0;34m\u001b[0m\u001b[0;34m\u001b[0m\u001b[0;34m\u001b[0m\u001b[0m\n\u001b[0m\u001b[1;32m    350\u001b[0m \u001b[0;34m\u001b[0m\u001b[0m\n\u001b[1;32m    351\u001b[0m     \u001b[0;32mreturn\u001b[0m \u001b[0mtext\u001b[0m\u001b[0;34m\u001b[0m\u001b[0;34m\u001b[0m\u001b[0m\n",
      "\u001b[0;31mTypeError\u001b[0m: 'str' object does not support item assignment"
     ]
    }
   ],
   "source": [
    "import pandas as pd\n",
    "from num2word.normalizer import number_converter\n",
    "import os, sys\n",
    "from tqdm import tqdm\n",
    "\n",
    "with open(os.path.join(sys.path[0], './INTERN_TEXTS/sents.txt'), \"r\") as file:\n",
    "    examples = file.readlines()\n",
    "\n",
    "predicted = []\n",
    "examples_first_1000 = examples\n",
    "remarked_all = 0\n",
    "for x in tqdm(examples_first_1000):\n",
    "    #print(\"TEXT\", x)\n",
    "    predict, remarked = number_converter(x)\n",
    "    remarked_all += remarked\n",
    "    predicted.append(predict)\n",
    "    #print(\"PREDICT\", predict)\n",
    "\n",
    "df = pd.DataFrame()\n",
    "\n",
    "\n",
    "print(df)\n",
    "print(\"count of just sentences\", remarked_all)\n",
    "print(\"percent\", remarked_all / len(predicted))\n",
    "\n"
   ]
  },
  {
   "cell_type": "code",
   "execution_count": 7,
   "metadata": {},
   "outputs": [],
   "source": [
    "df = pd.DataFrame()\n",
    "df['samples'] = examples\n",
    "df['predicted'] = predicted"
   ]
  },
  {
   "cell_type": "code",
   "execution_count": 8,
   "metadata": {},
   "outputs": [
    {
     "name": "stdout",
     "output_type": "stream",
     "text": [
      "                                                   samples  \\\n",
      "0        Әлеуметтік желілерде ЕЦ-166/5 төтенше қауіпсіз...   \n",
      "1        Бұл – фейк, оны Нұр-Сұлтан қаласы бойынша ҚАЖД...   \n",
      "2        Кейбір желі қолданушылары мекеменің алдына қой...   \n",
      "3        Шын мәнінде дәрігерлер колонияға созылмалы аур...   \n",
      "4        «17 наурызда таңғы сағат 06:30 шамасында Нұр-С...   \n",
      "...                                                    ...   \n",
      "3752222  Қазақтар шекара шебіндегі бекіністерге жүйелі ...   \n",
      "3752223  Көтеріліске тағы да Жоламан батыр басшылық етт...   \n",
      "3752224  Жоламан батыр бастаған қозғалыстың отаршылдыққ...   \n",
      "3752225  Көтерілістің әр жерде шашыраңқы жүруі мен оған...   \n",
      "3752226  Солай бола тұрса да ол Кенесары Қасымұлы баста...   \n",
      "\n",
      "                                                 predicted  \n",
      "0        Әлеуметтік желілерде ЕЦ жүз алпыс алты бөлу бе...  \n",
      "1        Бұл   фейк, оны Нұр Сұлтан қаласы бойынша ҚАЖД...  \n",
      "2        Кейбір желі қолданушылары мекеменің алдына қой...  \n",
      "3        Шын мәнінде дәрігерлер колонияға созылмалы аур...  \n",
      "4        «он жетінші наурызда таңғы сағат алты отыз шам...  \n",
      "...                                                    ...  \n",
      "3752222  Қазақтар шекара шебіндегі бекіністерге жүйелі ...  \n",
      "3752223  Көтеріліске тағы да Жоламан батыр басшылық етт...  \n",
      "3752224  Жоламан батыр бастаған қозғалыстың отаршылдыққ...  \n",
      "3752225  Көтерілістің әр жерде шашыраңқы жүруі мен оған...  \n",
      "3752226  Солай бола тұрса да ол Кенесары Қасымұлы баста...  \n",
      "\n",
      "[3752227 rows x 2 columns]\n"
     ]
    }
   ],
   "source": [
    "print(df)"
   ]
  },
  {
   "cell_type": "code",
   "execution_count": 9,
   "metadata": {},
   "outputs": [],
   "source": [
    "compression_opts = dict(method='zip', archive_name='out_final.csv')  \n",
    "\n",
    "df.to_csv('out_final.zip', index=False, compression=compression_opts)"
   ]
  },
  {
   "cell_type": "code",
   "execution_count": null,
   "metadata": {},
   "outputs": [],
   "source": []
  }
 ],
 "metadata": {
  "kernelspec": {
   "display_name": "Python 3.8.5 64-bit ('base': conda)",
   "name": "python385jvsc74a57bd009370de619b8b9149cc7c753872ea6aa5871e135f833321ec46ee8dac5b2b335"
  },
  "language_info": {
   "codemirror_mode": {
    "name": "ipython",
    "version": 3
   },
   "file_extension": ".py",
   "mimetype": "text/x-python",
   "name": "python",
   "nbconvert_exporter": "python",
   "pygments_lexer": "ipython3",
   "version": "3.8.5"
  },
  "orig_nbformat": 2
 },
 "nbformat": 4,
 "nbformat_minor": 2
}